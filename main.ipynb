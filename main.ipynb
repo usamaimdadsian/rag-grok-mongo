{
 "cells": [
  {
   "cell_type": "code",
   "execution_count": 120,
   "metadata": {},
   "outputs": [
    {
     "data": {
      "text/plain": [
       "True"
      ]
     },
     "execution_count": 120,
     "metadata": {},
     "output_type": "execute_result"
    }
   ],
   "source": [
    "from langgraph.graph import START, END, StateGraph\n",
    "from typing import TypedDict\n",
    "from langchain_huggingface import HuggingFaceEmbeddings\n",
    "from langchain_groq import ChatGroq\n",
    "from langchain_community.tools import TavilySearchResults\n",
    "from pymongo import MongoClient\n",
    "from scipy.spatial.distance import cosine\n",
    "from IPython.display import Image, display, Markdown\n",
    "\n",
    "\n",
    "import os\n",
    "from dotenv import load_dotenv\n",
    "import pandas as pd\n",
    "\n",
    "load_dotenv()"
   ]
  },
  {
   "cell_type": "code",
   "execution_count": 100,
   "metadata": {},
   "outputs": [],
   "source": [
    "emb_model = HuggingFaceEmbeddings(model_name=\"all-MiniLM-L6-v2\")\n",
    "model = ChatGroq(model='llama3-8b-8192', api_key=os.environ['GROQ_API_KEY'])\n",
    "\n",
    "websearch_tool = TavilySearchResults(\n",
    "    max_results=3,\n",
    "    search_depth=\"advanced\",\n",
    "    include_answer=True,\n",
    "    include_raw_content=True,\n",
    "    include_images=True\n",
    ")\n",
    "\n",
    "client = MongoClient(\"mongodb://localhost:27017/\")\n",
    "collection = client[\"netsol_db\"][\"financial_statements\"]\n"
   ]
  },
  {
   "cell_type": "code",
   "execution_count": 101,
   "metadata": {},
   "outputs": [],
   "source": [
    "class AgentState(TypedDict):\n",
    "    query: str = None\n",
    "    answer: str = None\n",
    "    relevance_count: int = 0\n",
    "    document_relevant: bool = False\n",
    "    context: str = None"
   ]
  },
  {
   "cell_type": "code",
   "execution_count": 102,
   "metadata": {},
   "outputs": [],
   "source": [
    "def router(state: AgentState) -> AgentState:\n",
    "    query = state[\"query\"]\n",
    "    prompt = f\"\"\"\n",
    "        You are an intelligent assistant. Decide the best source for the following query: \n",
    "        - If the query is about anything about Netsol, choose \"document_search\".\n",
    "        - If the query is about finance of a company even if the name \"Netsol\" is not mentioned, choose \"document_search\".\n",
    "        - If the query is about recent events, general information, or open-ended topics, choose \"internet_search\".\n",
    "        Query: {query}\n",
    "        Respond with either \"internet_search\" or \"document_search\" only. \n",
    "    \"\"\"\n",
    "    response = model.invoke(prompt)\n",
    "    decision = response.content.strip().lower()\n",
    "\n",
    "    if \"internet_search\" in decision:\n",
    "        state[\"answer\"] = \"internet_search\"\n",
    "    elif \"document_search\" in decision:\n",
    "        state[\"answer\"] = \"document_search\"\n",
    "    else:\n",
    "        raise ValueError(f\"Unexpected LLM response: {response}\")\n",
    "    return state\n"
   ]
  },
  {
   "cell_type": "code",
   "execution_count": 103,
   "metadata": {},
   "outputs": [],
   "source": [
    "def internet_search(state: AgentState) -> AgentState:\n",
    "    print(\"Calling from internet search\")\n",
    "\n",
    "    resps = websearch_tool.invoke({\"query\": state[\"query\"]})\n",
    "    context = \"\"\n",
    "    for i,resp in enumerate(resps):\n",
    "        context += f\"\"\"\n",
    "            Source {i+1}:\n",
    "            \"{resp}\"\\n\\n\n",
    "        \"\"\"\n",
    "    prompt = f\"\"\"\n",
    "        The user asked: {state['query']}\n",
    "        \n",
    "        The relevant context is:\n",
    "        {context}\n",
    "    \"\"\"\n",
    "    resp = model.invoke(prompt)\n",
    "    state[\"answer\"] = resp.content\n",
    "    state[\"context\"] = context\n",
    "    return state"
   ]
  },
  {
   "cell_type": "code",
   "execution_count": 117,
   "metadata": {},
   "outputs": [],
   "source": [
    "def rewrite_query(state: AgentState) -> AgentState:\n",
    "    print(\"Calling from rewrite query\")\n",
    "    prompt = f\"\"\"\n",
    "        The user asked: {state['query']}\n",
    "\n",
    "        Based on the context provided below, the original query seems to be irrelevant or too broad. Please suggest a more relevant and specific query that would yield better results based on the documents' content.\n",
    "\n",
    "        Context:\n",
    "        {state[\"context\"]}\n",
    "\n",
    "        Respond with modified query only, don't add extra text\n",
    "    \"\"\"\n",
    "    resp = model.invoke(prompt)\n",
    "    state['query'] = resp.content\n",
    "\n",
    "    print(\"QUERY MODIFIED:\", state[\"query\"])\n",
    "\n",
    "    return state\n"
   ]
  },
  {
   "cell_type": "code",
   "execution_count": 105,
   "metadata": {},
   "outputs": [],
   "source": [
    "def document_relevance(state: AgentState) -> AgentState:\n",
    "    print(\"Checking response relevance\")\n",
    "\n",
    "    prompt = f\"\"\"\n",
    "        Does \"{state['answer']}\" answers the question \"{state['query']}\"?\n",
    "\n",
    "        Respond with either \"yes\" or \"no\" only. \n",
    "    \"\"\"\n",
    "\n",
    "    resp = model.invoke(prompt)\n",
    "    if not \"yes\" in resp.content:\n",
    "        state[\"document_relevant\"] = False\n",
    "        if not \"relevance_count\" in state.keys():\n",
    "            state[\"relevance_count\"] = 0\n",
    "        state[\"relevance_count\"] += 1\n",
    "        if state[\"relevance_count\"] < 3:\n",
    "            state['answer'] = \"rewrite_query\"\n",
    "        else:\n",
    "            state[\"answer\"] = \"internet_search\"\n",
    "    else:\n",
    "        state[\"document_relevant\"] = True\n",
    "\n",
    "    return state\n"
   ]
  },
  {
   "cell_type": "code",
   "execution_count": 106,
   "metadata": {},
   "outputs": [],
   "source": [
    "def document_search(state: AgentState) -> AgentState:\n",
    "    print(\"Calling from document search\")\n",
    "\n",
    "    query_vector = emb_model.embed_query(state[\"query\"])\n",
    "\n",
    "\n",
    "    top_k = 3\n",
    "\n",
    "    max_sim = [-1]*top_k\n",
    "    top_document = [None]*top_k\n",
    "\n",
    "    documents = collection.find()\n",
    "\n",
    "    for doc in documents:\n",
    "        similarity = 1 - cosine(query_vector,doc[\"values\"])\n",
    "        for i,sim in enumerate(max_sim):\n",
    "            if similarity > sim:\n",
    "                top_document[i] = doc\n",
    "                max_sim[i] = similarity\n",
    "                break\n",
    "    \n",
    "\n",
    "    context = \"\"\n",
    "    for i,resp in enumerate(top_document):\n",
    "        context += f\"\"\"\n",
    "            Source {i+1}:\n",
    "            \"{resp['metadata']['text']}\"\\n\\n\n",
    "        \"\"\"\n",
    "    prompt = f\"\"\"\n",
    "        The user asked: {state['query']}\n",
    "        \n",
    "        The relevant context is:\n",
    "        {context}\n",
    "    \"\"\"\n",
    "    resp = model.invoke(prompt)\n",
    "        \n",
    "    state[\"answer\"] = resp.content\n",
    "    state[\"context\"] = context\n",
    "    return state"
   ]
  },
  {
   "cell_type": "code",
   "execution_count": 118,
   "metadata": {},
   "outputs": [],
   "source": [
    "workflow = StateGraph(AgentState)\n",
    "\n",
    "workflow.add_node(\"router\", router)\n",
    "workflow.add_node(\"internet_search\", internet_search)\n",
    "workflow.add_node(\"document_search\", document_search)\n",
    "workflow.add_node(\"document_relevance\", document_relevance)\n",
    "workflow.add_node(\"rewrite_query\", rewrite_query)\n",
    "\n",
    "workflow.add_edge(START,\"router\")\n",
    "workflow.add_conditional_edges(\"router\", lambda state: state[\"answer\"])\n",
    "workflow.add_edge(\"internet_search\",END)\n",
    "workflow.add_edge(\"document_search\",\"document_relevance\")\n",
    "workflow.add_conditional_edges(\"document_relevance\", lambda state: END if state[\"document_relevant\"] else state[\"answer\"])\n",
    "workflow.add_edge(\"rewrite_query\", \"document_search\")\n",
    "\n",
    "graph = workflow.compile()"
   ]
  },
  {
   "cell_type": "code",
   "execution_count": 108,
   "metadata": {},
   "outputs": [
    {
     "data": {
      "image/png": "[encoded data removed]",
      "text/plain": [
       "<IPython.core.display.Image object>"
      ]
     },
     "metadata": {},
     "output_type": "display_data"
    }
   ],
   "source": [
    "\n",
    "try:\n",
    "    display(Image(graph.get_graph(xray=True).draw_mermaid_png()))\n",
    "except Exception:\n",
    "    # This requires some extra dependencies and is optional\n",
    "    pass"
   ]
  },
  {
   "cell_type": "markdown",
   "metadata": {},
   "source": [
    "# Test Runs"
   ]
  },
  {
   "cell_type": "code",
   "execution_count": 109,
   "metadata": {},
   "outputs": [
    {
     "name": "stdout",
     "output_type": "stream",
     "text": [
      "Calling from internet search\n"
     ]
    },
    {
     "data": {
      "text/markdown": [
       "Based on the provided sources, here's a summary of how the Trump family became rich:\n",
       "\n",
       "1. Frederick Trump, Donald Trump's grandfather, arrived in the United States during the Gold Rush of the late 1800s with limited money. He worked hard and became a successful entrepreneur, striking it rich during this period.\n",
       "2. Donald Trump's father, Fred Trump, was likely the driving force behind the family's real estate business. He used his negotiating skills to secure a 40-year tax break for a hotel project in Manhattan, which saved the family $160 million. Fred Trump was known for being frugal and saving every penny possible.\n",
       "3. Donald Trump himself has continued this legacy of frugality and strategic business moves. He has been willing to put his name on various products and projects, such as buildings, steaks, and ties, which has contributed to the success of the Trump Organization.\n",
       "\n",
       "It's worth noting that the exact details of the Trump family's wealth and business dealings are not publicly known due to a lack of transparency and the absence of President Trump's tax returns. However, based on the available information, it appears that a combination of hard work, smart business decisions, and strategic partnerships have contributed to the Trump family's wealth."
      ],
      "text/plain": [
       "<IPython.core.display.Markdown object>"
      ]
     },
     "metadata": {},
     "output_type": "display_data"
    }
   ],
   "source": [
    "resp = graph.invoke({\"query\": \"How trump family become rich?\"})\n",
    "\n",
    "display(Markdown(resp[\"answer\"]))"
   ]
  },
  {
   "cell_type": "code",
   "execution_count": 110,
   "metadata": {},
   "outputs": [
    {
     "name": "stdout",
     "output_type": "stream",
     "text": [
      "Calling from document search\n",
      "Checking response relevance\n"
     ]
    },
    {
     "data": {
      "text/markdown": [
       "Based on the provided sources, it appears that NETSOL Technologies Limited is a Pakistani company that is engaged in the development and sale of computer software and allied services. The company has multiple business units located in different parts of Pakistan, as well as a branch office in Indonesia.\n",
       "\n",
       "The company has an open-door policy, which encourages employees to communicate with senior management and provide suggestions, voice grievances, or discuss any matters related to the company. The company also has an audit committee that allows employees to report any monetary irregularities or suspicious activities anonymously.\n",
       "\n",
       "In terms of corporate social responsibility, NETSOL has several initiatives in place. The company has a National Education Support Program that covers the educational expenses of its support staff's children, and it has also provided financial support to the DIL School (Development in Literacy Foundation) to provide quality education to underprivileged children.\n",
       "\n",
       "Additionally, the company has a policy of paying government taxes in a timely and transparent manner, and it has contributed over 20,000 patients to over the year.\n",
       "\n",
       "Overall, NETSOL Technologies Limited appears to be a company that is committed to its employees, customers, and the community, and it has multiple initiatives in place to support education, healthcare, and corporate social responsibility."
      ],
      "text/plain": [
       "<IPython.core.display.Markdown object>"
      ]
     },
     "metadata": {},
     "output_type": "display_data"
    }
   ],
   "source": [
    "resp = graph.invoke({\"query\": \"What does Netsol do?\"})\n",
    "\n",
    "display(Markdown(resp[\"answer\"]))"
   ]
  },
  {
   "cell_type": "code",
   "execution_count": 111,
   "metadata": {},
   "outputs": [
    {
     "name": "stdout",
     "output_type": "stream",
     "text": [
      "Calling from internet search\n"
     ]
    },
    {
     "data": {
      "text/markdown": [
       "Based on the provided sources, it appears that the question is asking about the gross profit margin of 2024 for a specific industry, but the sources do not provide a direct answer. Here's a breakdown of what each source provides:\n",
       "\n",
       "Source 1: This source does not provide a gross profit margin specifically for 2024, but it does mention the profit margin for the entire industry in 2024, which is 45.0%.\n",
       "\n",
       "Source 2: This source does not provide a gross profit margin for 2024. The text mentions a charge that impacted the company's financial performance, but it does not provide a specific gross profit margin.\n",
       "\n",
       "Source 3: This source does not provide a gross profit margin for 2024. The text discusses the third quarter of 2024, but it does not provide any information about gross profit margin.\n",
       "\n",
       "In conclusion, based on the provided sources, it is not possible to determine the gross profit margin of 2024. If you could provide more context or clarify which industry or company you are referring to, I may be able to help you find the answer."
      ],
      "text/plain": [
       "<IPython.core.display.Markdown object>"
      ]
     },
     "metadata": {},
     "output_type": "display_data"
    }
   ],
   "source": [
    "\n",
    "resp = graph.invoke({\"query\": \"what is the gross profit margin of 2024\"})\n",
    "\n",
    "display(Markdown(resp[\"answer\"]))"
   ]
  },
  {
   "cell_type": "code",
   "execution_count": 112,
   "metadata": {},
   "outputs": [
    {
     "name": "stdout",
     "output_type": "stream",
     "text": [
      "Calling from document search\n",
      "Checking response relevance\n"
     ]
    },
    {
     "data": {
      "text/markdown": [
       "According to the provided context, NETSOL has taken the following initiative for sustainability:\n",
       "\n",
       "* Focus on energy efficiency\n",
       "* Waste reduction\n",
       "* Recycling\n",
       "* Tree plantations\n",
       "* Reducing carbon footprint\n",
       "* Adopting eco-friendly practices across all operations\n",
       "\n",
       "By embedding sustainability into its core practices, NETSOL aims to create long-term value for its stakeholders while supporting the global effort to address climate change and promote a greener future."
      ],
      "text/plain": [
       "<IPython.core.display.Markdown object>"
      ]
     },
     "metadata": {},
     "output_type": "display_data"
    }
   ],
   "source": [
    "\n",
    "resp = graph.invoke({\"query\": \"What initiative has NETSOL taken for sustainability?\"})\n",
    "\n",
    "display(Markdown(resp[\"answer\"]))"
   ]
  },
  {
   "cell_type": "code",
   "execution_count": 119,
   "metadata": {},
   "outputs": [
    {
     "name": "stdout",
     "output_type": "stream",
     "text": [
      "Calling from document search\n",
      "Checking response relevance\n",
      "Calling from rewrite query\n",
      "QUERY MODIFIED: Which event or recognition marked the success of NETSOL's Otoz platform?\n",
      "Calling from document search\n",
      "Checking response relevance\n",
      "Calling from rewrite query\n",
      "QUERY MODIFIED: Which event or recognition marked the success of NETSOL's Otoz platform?\n",
      "Calling from document search\n",
      "Checking response relevance\n"
     ]
    },
    {
     "data": {
      "text/markdown": [
       "Based on the provided context, the event or recognition that marked the success of NETSOL's Otoz platform is the Gold Award for IT Products and Solutions, which was awarded to NETSOL in an event held in collaboration with Pakistan Software Export Board (PSEB) and P@SHA."
      ],
      "text/plain": [
       "<IPython.core.display.Markdown object>"
      ]
     },
     "metadata": {},
     "output_type": "display_data"
    },
    {
     "name": "stdout",
     "output_type": "stream",
     "text": [
      "Calling from document search\n",
      "Checking response relevance\n",
      "Calling from rewrite query\n",
      "QUERY MODIFIED: The modified query would be:\n",
      "\n",
      "Which event marked the success of NETSOL's Otoz platform, as described in the Annual Report 2024 or any other related document?\n",
      "Calling from document search\n",
      "Checking response relevance\n"
     ]
    }
   ],
   "source": [
    "resp = graph.invoke({\"query\": \"Which event marked the success of NETSOL's Otoz platform?\"})\n",
    "\n",
    "display(Markdown(resp[\"answer\"]))"
   ]
  },
  {
   "cell_type": "markdown",
   "metadata": {},
   "source": [
    "# Gradio"
   ]
  },
  {
   "cell_type": "code",
   "execution_count": 62,
   "metadata": {},
   "outputs": [
    {
     "name": "stdout",
     "output_type": "stream",
     "text": [
      "* Running on local URL:  http://127.0.0.1:7861\n",
      "\n",
      "To create a public link, set `share=True` in `launch()`.\n"
     ]
    },
    {
     "data": {
      "text/html": [
       "<div><iframe src=\"http://127.0.0.1:7861/\" width=\"100%\" height=\"500\" allow=\"autoplay; camera; microphone; clipboard-read; clipboard-write;\" frameborder=\"0\" allowfullscreen></iframe></div>"
      ],
      "text/plain": [
       "<IPython.core.display.HTML object>"
      ]
     },
     "metadata": {},
     "output_type": "display_data"
    },
    {
     "data": {
      "text/plain": []
     },
     "execution_count": 62,
     "metadata": {},
     "output_type": "execute_result"
    },
    {
     "name": "stdout",
     "output_type": "stream",
     "text": [
      "Calling from document search\n",
      "Calling from internet search\n",
      "Calling from internet search\n"
     ]
    }
   ],
   "source": [
    "import gradio as gr\n",
    "\n",
    "def greet(query):\n",
    "\n",
    "    resp = graph.invoke({\"query\": query})\n",
    "\n",
    "    return resp[\"answer\"]\n",
    "\n",
    "demo = gr.Interface(\n",
    "    fn=greet,\n",
    "    inputs=[\"text\"],\n",
    "    outputs=[\"text\"],\n",
    ")\n",
    "\n",
    "demo.launch()"
   ]
  },
  {
   "cell_type": "markdown",
   "metadata": {},
   "source": [
    "# Evaluation"
   ]
  },
  {
   "cell_type": "code",
   "execution_count": 121,
   "metadata": {},
   "outputs": [
    {
     "data": {
      "text/html": [
       "<div>\n",
       "<style scoped>\n",
       "    .dataframe tbody tr th:only-of-type {\n",
       "        vertical-align: middle;\n",
       "    }\n",
       "\n",
       "    .dataframe tbody tr th {\n",
       "        vertical-align: top;\n",
       "    }\n",
       "\n",
       "    .dataframe thead th {\n",
       "        text-align: right;\n",
       "    }\n",
       "</style>\n",
       "<table border=\"1\" class=\"dataframe\">\n",
       "  <thead>\n",
       "    <tr style=\"text-align: right;\">\n",
       "      <th></th>\n",
       "      <th>question</th>\n",
       "      <th>answer</th>\n",
       "    </tr>\n",
       "  </thead>\n",
       "  <tbody>\n",
       "    <tr>\n",
       "      <th>0</th>\n",
       "      <td>What is the vision of NETSOL Technologies Limi...</td>\n",
       "      <td>To become the leading and world-class provider...</td>\n",
       "    </tr>\n",
       "    <tr>\n",
       "      <th>1</th>\n",
       "      <td>What are the main certifications achieved by N...</td>\n",
       "      <td>NETSOL has been audited for ISO 27001, ISO 200...</td>\n",
       "    </tr>\n",
       "    <tr>\n",
       "      <th>2</th>\n",
       "      <td>What are the core products offered by NETSOL?</td>\n",
       "      <td>The core products are Ascent (a platform for a...</td>\n",
       "    </tr>\n",
       "    <tr>\n",
       "      <th>3</th>\n",
       "      <td>What services does NETSOL provide?</td>\n",
       "      <td>NETSOL provides professional services, cloud s...</td>\n",
       "    </tr>\n",
       "    <tr>\n",
       "      <th>4</th>\n",
       "      <td>What is Project Optimus at NETSOL?</td>\n",
       "      <td>Project Optimus is NETSOL's initiative to deve...</td>\n",
       "    </tr>\n",
       "  </tbody>\n",
       "</table>\n",
       "</div>"
      ],
      "text/plain": [
       "                                            question  \\\n",
       "0  What is the vision of NETSOL Technologies Limi...   \n",
       "1  What are the main certifications achieved by N...   \n",
       "2      What are the core products offered by NETSOL?   \n",
       "3                 What services does NETSOL provide?   \n",
       "4                 What is Project Optimus at NETSOL?   \n",
       "\n",
       "                                              answer  \n",
       "0  To become the leading and world-class provider...  \n",
       "1  NETSOL has been audited for ISO 27001, ISO 200...  \n",
       "2  The core products are Ascent (a platform for a...  \n",
       "3  NETSOL provides professional services, cloud s...  \n",
       "4  Project Optimus is NETSOL's initiative to deve...  "
      ]
     },
     "execution_count": 121,
     "metadata": {},
     "output_type": "execute_result"
    }
   ],
   "source": [
    "df = pd.read_json(\"qa copy.json\")\n",
    "df.head()"
   ]
  },
  {
   "cell_type": "code",
   "execution_count": 124,
   "metadata": {},
   "outputs": [
    {
     "name": "stdout",
     "output_type": "stream",
     "text": [
      "Calling from document search\n",
      "Checking response relevance\n"
     ]
    },
    {
     "name": "stderr",
     "output_type": "stream",
     "text": [
      "/home/usama/linux/python_env/312_default/lib/python3.12/site-packages/nltk/translate/bleu_score.py:577: UserWarning: \n",
      "The hypothesis contains 0 counts of 2-gram overlaps.\n",
      "Therefore the BLEU score evaluates to 0, independently of\n",
      "how many N-gram overlaps of lower order it contains.\n",
      "Consider using lower n-gram order or use SmoothingFunction()\n",
      "  warnings.warn(_msg)\n",
      "/home/usama/linux/python_env/312_default/lib/python3.12/site-packages/nltk/translate/bleu_score.py:577: UserWarning: \n",
      "The hypothesis contains 0 counts of 3-gram overlaps.\n",
      "Therefore the BLEU score evaluates to 0, independently of\n",
      "how many N-gram overlaps of lower order it contains.\n",
      "Consider using lower n-gram order or use SmoothingFunction()\n",
      "  warnings.warn(_msg)\n",
      "/home/usama/linux/python_env/312_default/lib/python3.12/site-packages/nltk/translate/bleu_score.py:577: UserWarning: \n",
      "The hypothesis contains 0 counts of 4-gram overlaps.\n",
      "Therefore the BLEU score evaluates to 0, independently of\n",
      "how many N-gram overlaps of lower order it contains.\n",
      "Consider using lower n-gram order or use SmoothingFunction()\n",
      "  warnings.warn(_msg)\n"
     ]
    },
    {
     "name": "stdout",
     "output_type": "stream",
     "text": [
      "Calling from document search\n",
      "Checking response relevance\n",
      "Calling from rewrite query\n",
      "QUERY MODIFIED: What certifications has NETSOL achieved in the field of information security and software measurement programs?\n",
      "Calling from document search\n",
      "Checking response relevance\n",
      "Calling from rewrite query\n",
      "QUERY MODIFIED: What certifications related to information security and software measurement programs has NETSOL achieved, as mentioned in the annual reports or other official documents?\n",
      "Calling from document search\n",
      "Checking response relevance\n",
      "Calling from document search\n",
      "Checking response relevance\n",
      "Calling from rewrite query\n",
      "QUERY MODIFIED: Here is a more relevant and specific query that would yield better results based on the documents' content:\n",
      "\n",
      "What are the main solutions offered by NETSOL Technologies in the asset finance and leasing industry?\n",
      "Calling from document search\n",
      "Checking response relevance\n",
      "Calling from document search\n",
      "Checking response relevance\n",
      "Calling from rewrite query\n",
      "QUERY MODIFIED: What services does NETSOL provide to its clients?\n",
      "Calling from document search\n",
      "Checking response relevance\n"
     ]
    },
    {
     "name": "stderr",
     "output_type": "stream",
     "text": [
      "/home/usama/linux/python_env/312_default/lib/python3.12/site-packages/nltk/translate/bleu_score.py:577: UserWarning: \n",
      "The hypothesis contains 0 counts of 3-gram overlaps.\n",
      "Therefore the BLEU score evaluates to 0, independently of\n",
      "how many N-gram overlaps of lower order it contains.\n",
      "Consider using lower n-gram order or use SmoothingFunction()\n",
      "  warnings.warn(_msg)\n",
      "/home/usama/linux/python_env/312_default/lib/python3.12/site-packages/nltk/translate/bleu_score.py:577: UserWarning: \n",
      "The hypothesis contains 0 counts of 4-gram overlaps.\n",
      "Therefore the BLEU score evaluates to 0, independently of\n",
      "how many N-gram overlaps of lower order it contains.\n",
      "Consider using lower n-gram order or use SmoothingFunction()\n",
      "  warnings.warn(_msg)\n"
     ]
    },
    {
     "name": "stdout",
     "output_type": "stream",
     "text": [
      "Calling from document search\n",
      "Checking response relevance\n",
      "Calling from document search\n",
      "Checking response relevance\n",
      "Calling from document search\n",
      "Checking response relevance\n"
     ]
    },
    {
     "name": "stderr",
     "output_type": "stream",
     "text": [
      "/home/usama/linux/python_env/312_default/lib/python3.12/site-packages/nltk/translate/bleu_score.py:577: UserWarning: \n",
      "The hypothesis contains 0 counts of 4-gram overlaps.\n",
      "Therefore the BLEU score evaluates to 0, independently of\n",
      "how many N-gram overlaps of lower order it contains.\n",
      "Consider using lower n-gram order or use SmoothingFunction()\n",
      "  warnings.warn(_msg)\n"
     ]
    },
    {
     "name": "stdout",
     "output_type": "stream",
     "text": [
      "Calling from document search\n",
      "Checking response relevance\n",
      "Calling from document search\n",
      "Checking response relevance\n",
      "Calling from document search\n",
      "Checking response relevance\n",
      "Calling from document search\n",
      "Checking response relevance\n",
      "Calling from document search\n",
      "Checking response relevance\n",
      "Calling from document search\n",
      "Checking response relevance\n",
      "Calling from document search\n",
      "Checking response relevance\n",
      "Calling from document search\n",
      "Checking response relevance\n",
      "Calling from document search\n",
      "Checking response relevance\n"
     ]
    },
    {
     "name": "stderr",
     "output_type": "stream",
     "text": [
      "/home/usama/linux/python_env/312_default/lib/python3.12/site-packages/nltk/translate/bleu_score.py:577: UserWarning: \n",
      "The hypothesis contains 0 counts of 2-gram overlaps.\n",
      "Therefore the BLEU score evaluates to 0, independently of\n",
      "how many N-gram overlaps of lower order it contains.\n",
      "Consider using lower n-gram order or use SmoothingFunction()\n",
      "  warnings.warn(_msg)\n",
      "/home/usama/linux/python_env/312_default/lib/python3.12/site-packages/nltk/translate/bleu_score.py:577: UserWarning: \n",
      "The hypothesis contains 0 counts of 3-gram overlaps.\n",
      "Therefore the BLEU score evaluates to 0, independently of\n",
      "how many N-gram overlaps of lower order it contains.\n",
      "Consider using lower n-gram order or use SmoothingFunction()\n",
      "  warnings.warn(_msg)\n",
      "/home/usama/linux/python_env/312_default/lib/python3.12/site-packages/nltk/translate/bleu_score.py:577: UserWarning: \n",
      "The hypothesis contains 0 counts of 4-gram overlaps.\n",
      "Therefore the BLEU score evaluates to 0, independently of\n",
      "how many N-gram overlaps of lower order it contains.\n",
      "Consider using lower n-gram order or use SmoothingFunction()\n",
      "  warnings.warn(_msg)\n"
     ]
    },
    {
     "name": "stdout",
     "output_type": "stream",
     "text": [
      "Calling from document search\n",
      "Checking response relevance\n",
      "Calling from rewrite query\n",
      "QUERY MODIFIED: Here's a modified query that would yield better results based on the documents' content:\n",
      "\n",
      "\"Which award did NETSOL receive for its 'IT Products and Solutions'?\"\n",
      "Calling from document search\n",
      "Checking response relevance\n"
     ]
    },
    {
     "name": "stderr",
     "output_type": "stream",
     "text": [
      "/home/usama/linux/python_env/312_default/lib/python3.12/site-packages/nltk/translate/bleu_score.py:577: UserWarning: \n",
      "The hypothesis contains 0 counts of 2-gram overlaps.\n",
      "Therefore the BLEU score evaluates to 0, independently of\n",
      "how many N-gram overlaps of lower order it contains.\n",
      "Consider using lower n-gram order or use SmoothingFunction()\n",
      "  warnings.warn(_msg)\n",
      "/home/usama/linux/python_env/312_default/lib/python3.12/site-packages/nltk/translate/bleu_score.py:577: UserWarning: \n",
      "The hypothesis contains 0 counts of 3-gram overlaps.\n",
      "Therefore the BLEU score evaluates to 0, independently of\n",
      "how many N-gram overlaps of lower order it contains.\n",
      "Consider using lower n-gram order or use SmoothingFunction()\n",
      "  warnings.warn(_msg)\n",
      "/home/usama/linux/python_env/312_default/lib/python3.12/site-packages/nltk/translate/bleu_score.py:577: UserWarning: \n",
      "The hypothesis contains 0 counts of 4-gram overlaps.\n",
      "Therefore the BLEU score evaluates to 0, independently of\n",
      "how many N-gram overlaps of lower order it contains.\n",
      "Consider using lower n-gram order or use SmoothingFunction()\n",
      "  warnings.warn(_msg)\n"
     ]
    },
    {
     "name": "stdout",
     "output_type": "stream",
     "text": [
      "Calling from document search\n",
      "Checking response relevance\n",
      "Calling from rewrite query\n",
      "QUERY MODIFIED: How many employees did NETSOL retain after restructuring?\n",
      "Calling from document search\n",
      "Checking response relevance\n",
      "Calling from rewrite query\n",
      "QUERY MODIFIED: Here is a more relevant and specific query:\n",
      "\n",
      "How many employees were retained by NETSOL after restructuring?\n",
      "Calling from document search\n",
      "Checking response relevance\n",
      "Calling from internet search\n"
     ]
    },
    {
     "name": "stderr",
     "output_type": "stream",
     "text": [
      "/home/usama/linux/python_env/312_default/lib/python3.12/site-packages/nltk/translate/bleu_score.py:577: UserWarning: \n",
      "The hypothesis contains 0 counts of 2-gram overlaps.\n",
      "Therefore the BLEU score evaluates to 0, independently of\n",
      "how many N-gram overlaps of lower order it contains.\n",
      "Consider using lower n-gram order or use SmoothingFunction()\n",
      "  warnings.warn(_msg)\n",
      "/home/usama/linux/python_env/312_default/lib/python3.12/site-packages/nltk/translate/bleu_score.py:577: UserWarning: \n",
      "The hypothesis contains 0 counts of 3-gram overlaps.\n",
      "Therefore the BLEU score evaluates to 0, independently of\n",
      "how many N-gram overlaps of lower order it contains.\n",
      "Consider using lower n-gram order or use SmoothingFunction()\n",
      "  warnings.warn(_msg)\n",
      "/home/usama/linux/python_env/312_default/lib/python3.12/site-packages/nltk/translate/bleu_score.py:577: UserWarning: \n",
      "The hypothesis contains 0 counts of 4-gram overlaps.\n",
      "Therefore the BLEU score evaluates to 0, independently of\n",
      "how many N-gram overlaps of lower order it contains.\n",
      "Consider using lower n-gram order or use SmoothingFunction()\n",
      "  warnings.warn(_msg)\n"
     ]
    },
    {
     "name": "stdout",
     "output_type": "stream",
     "text": [
      "Calling from document search\n",
      "Checking response relevance\n"
     ]
    },
    {
     "name": "stderr",
     "output_type": "stream",
     "text": [
      "/home/usama/linux/python_env/312_default/lib/python3.12/site-packages/nltk/translate/bleu_score.py:577: UserWarning: \n",
      "The hypothesis contains 0 counts of 2-gram overlaps.\n",
      "Therefore the BLEU score evaluates to 0, independently of\n",
      "how many N-gram overlaps of lower order it contains.\n",
      "Consider using lower n-gram order or use SmoothingFunction()\n",
      "  warnings.warn(_msg)\n",
      "/home/usama/linux/python_env/312_default/lib/python3.12/site-packages/nltk/translate/bleu_score.py:577: UserWarning: \n",
      "The hypothesis contains 0 counts of 3-gram overlaps.\n",
      "Therefore the BLEU score evaluates to 0, independently of\n",
      "how many N-gram overlaps of lower order it contains.\n",
      "Consider using lower n-gram order or use SmoothingFunction()\n",
      "  warnings.warn(_msg)\n",
      "/home/usama/linux/python_env/312_default/lib/python3.12/site-packages/nltk/translate/bleu_score.py:577: UserWarning: \n",
      "The hypothesis contains 0 counts of 4-gram overlaps.\n",
      "Therefore the BLEU score evaluates to 0, independently of\n",
      "how many N-gram overlaps of lower order it contains.\n",
      "Consider using lower n-gram order or use SmoothingFunction()\n",
      "  warnings.warn(_msg)\n"
     ]
    },
    {
     "name": "stdout",
     "output_type": "stream",
     "text": [
      "Calling from document search\n",
      "Checking response relevance\n"
     ]
    },
    {
     "name": "stderr",
     "output_type": "stream",
     "text": [
      "/home/usama/linux/python_env/312_default/lib/python3.12/site-packages/nltk/translate/bleu_score.py:577: UserWarning: \n",
      "The hypothesis contains 0 counts of 4-gram overlaps.\n",
      "Therefore the BLEU score evaluates to 0, independently of\n",
      "how many N-gram overlaps of lower order it contains.\n",
      "Consider using lower n-gram order or use SmoothingFunction()\n",
      "  warnings.warn(_msg)\n"
     ]
    },
    {
     "name": "stdout",
     "output_type": "stream",
     "text": [
      "Calling from internet search\n"
     ]
    },
    {
     "name": "stderr",
     "output_type": "stream",
     "text": [
      "/home/usama/linux/python_env/312_default/lib/python3.12/site-packages/nltk/translate/bleu_score.py:577: UserWarning: \n",
      "The hypothesis contains 0 counts of 3-gram overlaps.\n",
      "Therefore the BLEU score evaluates to 0, independently of\n",
      "how many N-gram overlaps of lower order it contains.\n",
      "Consider using lower n-gram order or use SmoothingFunction()\n",
      "  warnings.warn(_msg)\n",
      "/home/usama/linux/python_env/312_default/lib/python3.12/site-packages/nltk/translate/bleu_score.py:577: UserWarning: \n",
      "The hypothesis contains 0 counts of 4-gram overlaps.\n",
      "Therefore the BLEU score evaluates to 0, independently of\n",
      "how many N-gram overlaps of lower order it contains.\n",
      "Consider using lower n-gram order or use SmoothingFunction()\n",
      "  warnings.warn(_msg)\n"
     ]
    },
    {
     "name": "stdout",
     "output_type": "stream",
     "text": [
      "Calling from document search\n",
      "Checking response relevance\n",
      "Calling from rewrite query\n",
      "QUERY MODIFIED: Is the CEO of Intel Pat Gelsinger?\n",
      "Calling from document search\n",
      "Checking response relevance\n",
      "Calling from rewrite query\n",
      "QUERY MODIFIED: Is the CEO of NETSOL Technologies Limited Salim Ullah Ghauri?\n",
      "Calling from document search\n",
      "Checking response relevance\n",
      "Calling from internet search\n"
     ]
    },
    {
     "name": "stderr",
     "output_type": "stream",
     "text": [
      "/home/usama/linux/python_env/312_default/lib/python3.12/site-packages/nltk/translate/bleu_score.py:577: UserWarning: \n",
      "The hypothesis contains 0 counts of 2-gram overlaps.\n",
      "Therefore the BLEU score evaluates to 0, independently of\n",
      "how many N-gram overlaps of lower order it contains.\n",
      "Consider using lower n-gram order or use SmoothingFunction()\n",
      "  warnings.warn(_msg)\n",
      "/home/usama/linux/python_env/312_default/lib/python3.12/site-packages/nltk/translate/bleu_score.py:577: UserWarning: \n",
      "The hypothesis contains 0 counts of 3-gram overlaps.\n",
      "Therefore the BLEU score evaluates to 0, independently of\n",
      "how many N-gram overlaps of lower order it contains.\n",
      "Consider using lower n-gram order or use SmoothingFunction()\n",
      "  warnings.warn(_msg)\n",
      "/home/usama/linux/python_env/312_default/lib/python3.12/site-packages/nltk/translate/bleu_score.py:577: UserWarning: \n",
      "The hypothesis contains 0 counts of 4-gram overlaps.\n",
      "Therefore the BLEU score evaluates to 0, independently of\n",
      "how many N-gram overlaps of lower order it contains.\n",
      "Consider using lower n-gram order or use SmoothingFunction()\n",
      "  warnings.warn(_msg)\n"
     ]
    }
   ],
   "source": [
    "import nltk\n",
    "from nltk.translate.bleu_score import sentence_bleu\n",
    "\n",
    "data = []\n",
    "for i in range(len(df)):\n",
    "    question = df.iloc[i][\"question\"]\n",
    "    ground_truth = df.iloc[i][\"answer\"]\n",
    "    \n",
    "    resp = graph.invoke({\"query\":question})\n",
    "    answer = resp[\"answer\"]\n",
    "\n",
    "    ground_truth_tokens = ground_truth.lower().split()\n",
    "    answer_tokens = answer.lower().split()\n",
    "\n",
    "    bleu_score = sentence_bleu([ground_truth_tokens],answer_tokens)\n",
    "\n",
    "    data.append({\"question\": question, \"ground_truth\": ground_truth, \"score\":bleu_score, \"answer\":answer})\n",
    "\n"
   ]
  },
  {
   "cell_type": "code",
   "execution_count": 126,
   "metadata": {},
   "outputs": [],
   "source": [
    "temp_df = pd.DataFrame(data)"
   ]
  },
  {
   "cell_type": "code",
   "execution_count": 127,
   "metadata": {},
   "outputs": [
    {
     "data": {
      "text/html": [
       "<div>\n",
       "<style scoped>\n",
       "    .dataframe tbody tr th:only-of-type {\n",
       "        vertical-align: middle;\n",
       "    }\n",
       "\n",
       "    .dataframe tbody tr th {\n",
       "        vertical-align: top;\n",
       "    }\n",
       "\n",
       "    .dataframe thead th {\n",
       "        text-align: right;\n",
       "    }\n",
       "</style>\n",
       "<table border=\"1\" class=\"dataframe\">\n",
       "  <thead>\n",
       "    <tr style=\"text-align: right;\">\n",
       "      <th></th>\n",
       "      <th>question</th>\n",
       "      <th>ground_truth</th>\n",
       "      <th>score</th>\n",
       "      <th>answer</th>\n",
       "    </tr>\n",
       "  </thead>\n",
       "  <tbody>\n",
       "    <tr>\n",
       "      <th>0</th>\n",
       "      <td>What is the vision of NETSOL Technologies Limi...</td>\n",
       "      <td>To become the leading and world-class provider...</td>\n",
       "      <td>1.077375e-231</td>\n",
       "      <td>Based on the provided sources, the vision of N...</td>\n",
       "    </tr>\n",
       "    <tr>\n",
       "      <th>1</th>\n",
       "      <td>What are the main certifications achieved by N...</td>\n",
       "      <td>NETSOL has been audited for ISO 27001, ISO 200...</td>\n",
       "      <td>3.288061e-02</td>\n",
       "      <td>Based on the provided sources, NETSOL has achi...</td>\n",
       "    </tr>\n",
       "    <tr>\n",
       "      <th>2</th>\n",
       "      <td>What are the core products offered by NETSOL?</td>\n",
       "      <td>The core products are Ascent (a platform for a...</td>\n",
       "      <td>2.453256e-02</td>\n",
       "      <td>Based on the provided sources, the main soluti...</td>\n",
       "    </tr>\n",
       "    <tr>\n",
       "      <th>3</th>\n",
       "      <td>What services does NETSOL provide?</td>\n",
       "      <td>NETSOL provides professional services, cloud s...</td>\n",
       "      <td>2.101545e-155</td>\n",
       "      <td>Based on the provided sources, NETSOL provides...</td>\n",
       "    </tr>\n",
       "    <tr>\n",
       "      <th>4</th>\n",
       "      <td>What is Project Optimus at NETSOL?</td>\n",
       "      <td>Project Optimus is NETSOL's initiative to deve...</td>\n",
       "      <td>2.698971e-02</td>\n",
       "      <td>Based on the provided sources, Project Optimus...</td>\n",
       "    </tr>\n",
       "  </tbody>\n",
       "</table>\n",
       "</div>"
      ],
      "text/plain": [
       "                                            question  \\\n",
       "0  What is the vision of NETSOL Technologies Limi...   \n",
       "1  What are the main certifications achieved by N...   \n",
       "2      What are the core products offered by NETSOL?   \n",
       "3                 What services does NETSOL provide?   \n",
       "4                 What is Project Optimus at NETSOL?   \n",
       "\n",
       "                                        ground_truth          score  \\\n",
       "0  To become the leading and world-class provider...  1.077375e-231   \n",
       "1  NETSOL has been audited for ISO 27001, ISO 200...   3.288061e-02   \n",
       "2  The core products are Ascent (a platform for a...   2.453256e-02   \n",
       "3  NETSOL provides professional services, cloud s...  2.101545e-155   \n",
       "4  Project Optimus is NETSOL's initiative to deve...   2.698971e-02   \n",
       "\n",
       "                                              answer  \n",
       "0  Based on the provided sources, the vision of N...  \n",
       "1  Based on the provided sources, NETSOL has achi...  \n",
       "2  Based on the provided sources, the main soluti...  \n",
       "3  Based on the provided sources, NETSOL provides...  \n",
       "4  Based on the provided sources, Project Optimus...  "
      ]
     },
     "execution_count": 127,
     "metadata": {},
     "output_type": "execute_result"
    }
   ],
   "source": [
    "temp_df.head()"
   ]
  },
  {
   "cell_type": "code",
   "execution_count": 128,
   "metadata": {},
   "outputs": [],
   "source": [
    "temp_df.to_csv(\"question_answer_evaluation.csv\")"
   ]
  }
 ],
 "metadata": {
  "kernelspec": {
   "display_name": "312_default",
   "language": "python",
   "name": "python3"
  },
  "language_info": {
   "codemirror_mode": {
    "name": "ipython",
    "version": 3
   },
   "file_extension": ".py",
   "mimetype": "text/x-python",
   "name": "python",
   "nbconvert_exporter": "python",
   "pygments_lexer": "ipython3",
   "version": "3.12.7"
  }
 },
 "nbformat": 4,
 "nbformat_minor": 2
}
